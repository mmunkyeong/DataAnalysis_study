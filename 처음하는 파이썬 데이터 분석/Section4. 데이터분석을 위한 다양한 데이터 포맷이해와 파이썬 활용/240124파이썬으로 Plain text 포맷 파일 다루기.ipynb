{
 "cells": [
  {
   "cell_type": "markdown",
   "id": "e97690db-6a98-43c6-b86a-2db66b99a67b",
   "metadata": {},
   "source": [
    "### 1.1 파일 오픈(Plain Text)\n",
    "- 파일 오픈, 읽기 또는 쓰기, 파일 닫기\n",
    "- 파일디스크립터 변수 = open(파일이름, 파일열기모드)\n",
    "\n",
    "- 파일 디스크립터(File Descriptor) 변수: 오픈한 파일 객체를 가리키고 있는 변수\n",
    "- 파일 이름 명시시, open 함수 실행 위치와 파일 이름이 저장된 위치를 파일 절대 경로 또는 상대경로로 정확히 명시\n",
    "- 파일 열기 모드\n",
    "  \n",
    "  r: 읽기모드, 파일 읽기만 할 때 사용\n",
    "  \n",
    "  w: 쓰기 모드, 파일에 데이터를 쓸 때 사용 (기존 파일 데이터는 삭제)\n",
    "  \n",
    "  a: 추가 모드, 파일의 기존데이터 끝에서부터 데이터를 추가할 때 사용\n",
    "\n",
    "- encoding\n",
    "  - open(파일이름, 파일 열기모드, encoding='utf-8-sig')와 같이 끝에 encoding 구문 추가 기능(옵션)\n",
    "  - 파일 오픈시, 해당 파일의 인코딩 방식을 명시해주는 것"
   ]
  },
  {
   "cell_type": "code",
   "execution_count": 4,
   "id": "969ff448-61ac-4b30-8bd8-b58c38620aaf",
   "metadata": {},
   "outputs": [],
   "source": [
    "data_file = open('00_data/text_data.txt', 'r', encoding='utf-8-sig')"
   ]
  },
  {
   "cell_type": "code",
   "execution_count": 7,
   "id": "ee5c8241-3ab7-43d9-8c99-0ef42c9519ed",
   "metadata": {},
   "outputs": [],
   "source": [
    "data_file = open('00_data/text_data.txt', 'r', encoding='utf-8-sig')\n",
    "data_file.close()"
   ]
  },
  {
   "cell_type": "code",
   "execution_count": 8,
   "id": "da5d4ffa-3437-4e26-93f8-e8a260002459",
   "metadata": {},
   "outputs": [
    {
     "name": "stdout",
     "output_type": "stream",
     "text": [
      "test\n"
     ]
    }
   ],
   "source": [
    "with open('00_data/text_data.txt', 'r', encoding='utf-8-sig') as file_desc:\n",
    "    print ('test')"
   ]
  },
  {
   "cell_type": "markdown",
   "id": "1a2d8e6d-7575-433c-873c-ec2b30b758cb",
   "metadata": {},
   "source": [
    "### 1.2 파일 닫기(Plain Text)\n",
    "- 파일 디스크립터변수 .close()함수로 파일을 닫을 수 있음\n",
    "- 항상 오픈한 파일은 닫아야함(파일을 오픈한채로 두면 컴퓨터에서 관련 자원을 계속 사용중인 상태가 될 수 있음)\n",
    "  \n",
    "  ```python\n",
    "  data_file = open('00_data/text_data.txt', 'r', encoding='utf-8-sig')\n",
    "  data_file.close()\n",
    "  ```\n",
    "\n",
    "\n",
    "- 자동으로 파일을 닫기 위해 with 구문을 사용활용할 수 있음\n",
    "- with open()명령 as 파일 디스크립터:\n",
    "- with 구문 안에서 동작할 코드를 탭으로 들여쓰기 해서 사용하면, with 구문이 모두 끝난 후 자동으로 해당 파일을 닫아줌\n",
    "  \n",
    "  ```python\n",
    "  with open('00_data/text_data.txt', 'r', encoding='utf-8-sig') as file_desc:\n",
    "  print ('test')\n",
    "  ```"
   ]
  },
  {
   "cell_type": "markdown",
   "id": "b6f74d53-7b51-4d3f-80bf-82fabfc430b6",
   "metadata": {},
   "source": [
    "### 1.3 파일 읽기\n",
    "readlines() 함수 사용하기\n",
    "- 오픈한 파일 디스크립터.readlines() 함수를 호출해서, 전체 데이터를 한줄씩 리스트 타입으로 읽어올 수 있음\n",
    "\n",
    "  ```python\n",
    "  data_file = open('00_data/text_data.txt', 'r', encoding='utf-8-sig')\n",
    "  data_lines = data_file.readlines()\n",
    "  data_lines\n",
    "  ```\n",
    "\n",
    "- 리스트 타입 변수는 항상 for 구문을 사용해서, 각 아이템을 가져오기\n",
    "\n",
    "  ```python\n",
    "  for data_line in data_lines:\n",
    "      print(data_line)\n",
    "  data_file.close()\n",
    "  ```\n",
    "  "
   ]
  },
  {
   "cell_type": "markdown",
   "id": "2d89b274-b512-4720-9565-5968f05397c6",
   "metadata": {},
   "source": [
    "readline() 함수 사용하기\n",
    "- 오픈한 파일 디스크립터.readline()함수를 호출해서, 현재까지 읽은 파일 데이터의 다음 한 줄을 문자열 타입으로 읽을 수 있음"
   ]
  },
  {
   "cell_type": "code",
   "execution_count": 10,
   "id": "7d83d793-61eb-465f-8153-a896739f8cd5",
   "metadata": {},
   "outputs": [
    {
     "name": "stdout",
     "output_type": "stream",
     "text": [
      "안녕하세요. Dave Lee 입니다.\n",
      "\n"
     ]
    }
   ],
   "source": [
    "data_file = open('00_data/text_data.txt', 'r', encoding='utf-8-sig')\n",
    "data_line = data_file.readline()\n",
    "print (data_line)"
   ]
  },
  {
   "cell_type": "code",
   "execution_count": 11,
   "id": "2eb2e14b-abd8-4d7b-bb04-e6de3dfaa3da",
   "metadata": {},
   "outputs": [
    {
     "name": "stdout",
     "output_type": "stream",
     "text": [
      "본 예제는 Plain Text 파일 예제입니다.\n",
      "\n"
     ]
    }
   ],
   "source": [
    "data_line = data_file.readline()\n",
    "print (data_line)"
   ]
  },
  {
   "cell_type": "code",
   "execution_count": 12,
   "id": "0d547185-bc99-4d5c-b257-23cf66ddc1cb",
   "metadata": {},
   "outputs": [
    {
     "name": "stdout",
     "output_type": "stream",
     "text": [
      "감사합니다.\n"
     ]
    }
   ],
   "source": [
    "data_line = data_file.readline()\n",
    "print (data_line)"
   ]
  },
  {
   "cell_type": "code",
   "execution_count": 13,
   "id": "1cf67ba5-659f-4925-b7f3-844c9778e8e4",
   "metadata": {},
   "outputs": [],
   "source": [
    "data_file.close()"
   ]
  },
  {
   "cell_type": "markdown",
   "id": "06fc10bf-5108-41c0-9f3b-a961b904152f",
   "metadata": {},
   "source": [
    "read() 함수 사용하기\n",
    "- 오픈한 파일 디스크립터.read()함수를 호출해서, 전체 파일 데이터를 문자열 타입으로 읽을 수 있음\n"
   ]
  },
  {
   "cell_type": "code",
   "execution_count": 14,
   "id": "3f9933e7-366a-46fc-b124-e9018c53b640",
   "metadata": {},
   "outputs": [
    {
     "data": {
      "text/plain": [
       "'안녕하세요. Dave Lee 입니다.\\n본 예제는 Plain Text 파일 예제입니다.\\n감사합니다.'"
      ]
     },
     "execution_count": 14,
     "metadata": {},
     "output_type": "execute_result"
    }
   ],
   "source": [
    "data_file = open('00_data/text_data.txt', 'r', encoding='utf-8-sig')\n",
    "data = data_file.read()\n",
    "data"
   ]
  },
  {
   "cell_type": "code",
   "execution_count": 15,
   "id": "adc172c9-a705-4fe6-a5bd-8d0a0b93a1e7",
   "metadata": {},
   "outputs": [],
   "source": [
    "data_file.close()"
   ]
  },
  {
   "cell_type": "markdown",
   "id": "41477e25-8163-4841-b518-08b633263450",
   "metadata": {},
   "source": [
    "### 1.4 파일쓰기\n",
    "write() 함수 사용하기\n",
    "- open() 함수에 파일열기모드를 'w'로 해서 파일쓰기"
   ]
  },
  {
   "cell_type": "code",
   "execution_count": 16,
   "id": "27321300-b5ef-4887-be64-0adc68387f43",
   "metadata": {},
   "outputs": [],
   "source": [
    "## 예제1: 파일 써보기\n",
    "data_file = open('00_data/text_data_write.txt', 'w', encoding='utf-8-sig')\n",
    "data_file.write('hi')\n",
    "data_file.write('munkyeong')\n",
    "data_file.close()"
   ]
  },
  {
   "cell_type": "code",
   "execution_count": 17,
   "id": "a5f05a55-a71a-4326-8c08-7b9455017e47",
   "metadata": {},
   "outputs": [],
   "source": [
    "## 예제2: 라인 바꾸기\n",
    "## 예제1: 파일 써보기\n",
    "data_file = open('00_data/text_data_write.txt', 'w', encoding='utf-8-sig')\n",
    "data_file.write('hi\\n')\n",
    "data_file.write('munkyeong.\\n')\n",
    "data_file.close()"
   ]
  },
  {
   "cell_type": "markdown",
   "id": "c0a54b71-fcd2-4040-8803-7cc38c9650ee",
   "metadata": {},
   "source": [
    "### 1.5 기존 파일에 데이터 추가\n",
    "- open() 함수에 파일 열기모드를 'a'로 해서 파일쓰기"
   ]
  },
  {
   "cell_type": "code",
   "execution_count": 18,
   "id": "7e14e1da-6e7f-491a-9a8b-f44ae7ab6ee9",
   "metadata": {},
   "outputs": [],
   "source": [
    "data_file = open('00_data/text_data_write.txt', 'a', encoding='utf-8-sig')\n",
    "data_file.write('본 파일은 임시 파일입니다.')\n",
    "data_file.close()"
   ]
  },
  {
   "cell_type": "code",
   "execution_count": 20,
   "id": "bfc9230e-5842-4a6b-9bc2-a8095a60cf79",
   "metadata": {},
   "outputs": [],
   "source": [
    "## 연습문제\n",
    "## txt 파일을 만들고, 다음 내용 쓰기\n",
    "# 유치원A\n",
    "# 초등학교B\n",
    "# 중학교C\n",
    "# 고등학교D\n",
    "\n",
    "data_file = open('00_data/text_data_practice.txt', 'w', encoding='utf-8-sig')\n",
    "data_file.write('유치원A\\n')\n",
    "data_file.write('초등학교B\\n')\n",
    "data_file.write('중학교C\\n')\n",
    "data_file.write('고등학교D\\n')\n",
    "data_file.close()"
   ]
  },
  {
   "cell_type": "code",
   "execution_count": 22,
   "id": "5bf379ff-4081-4164-a21b-5a3b48dfe32e",
   "metadata": {},
   "outputs": [],
   "source": [
    "## 연습문제\n",
    "## 파일에 다음 내용 추가\n",
    "## 대학교 E\n",
    "data_file = open('00_data/text_data_practice.txt', 'a', encoding='utf-8-sig')\n",
    "data_file.write('대학교E\\n')\n",
    "data_file.close()"
   ]
  },
  {
   "cell_type": "code",
   "execution_count": 28,
   "id": "87082c5b-8c3f-4359-8788-3dc3f82bb1c9",
   "metadata": {},
   "outputs": [
    {
     "name": "stdout",
     "output_type": "stream",
     "text": [
      "유치원A\n",
      "\n",
      "초등학교B\n",
      "\n",
      "중학교C\n",
      "\n",
      "고등학교D\n",
      "\n",
      "대학교E\n",
      "\n",
      "대학교E\n",
      "\n"
     ]
    }
   ],
   "source": [
    "## 연습문제\n",
    "## 파일 읽고, 다음과 같이 출력되는지 확안\n",
    "data_file = open('00_data/text_data_practice.txt', 'r', encoding='utf-8-sig')\n",
    "data_lines = data_file.readlines()\n",
    "\n",
    "for data_line in data_lines:\n",
    "    print(data_line)"
   ]
  },
  {
   "cell_type": "code",
   "execution_count": null,
   "id": "65b58a2d-dab5-4c9e-ad99-ce20ac14a69a",
   "metadata": {},
   "outputs": [],
   "source": []
  }
 ],
 "metadata": {
  "kernelspec": {
   "display_name": "Python 3 (ipykernel)",
   "language": "python",
   "name": "python3"
  },
  "language_info": {
   "codemirror_mode": {
    "name": "ipython",
    "version": 3
   },
   "file_extension": ".py",
   "mimetype": "text/x-python",
   "name": "python",
   "nbconvert_exporter": "python",
   "pygments_lexer": "ipython3",
   "version": "3.13.1"
  }
 },
 "nbformat": 4,
 "nbformat_minor": 5
}
